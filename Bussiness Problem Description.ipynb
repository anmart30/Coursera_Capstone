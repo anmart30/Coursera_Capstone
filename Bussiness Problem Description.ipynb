{
 "cells": [
  {
   "cell_type": "markdown",
   "id": "415fe83f-82f5-45de-a1fe-9f4bad8fd500",
   "metadata": {},
   "source": [
    "# The battle of Neighborhoods"
   ]
  },
  {
   "cell_type": "markdown",
   "id": "9ff0779e-2d9e-43f0-85e7-259a4b23da21",
   "metadata": {},
   "source": [
    "## Bussiness Problem Description"
   ]
  },
  {
   "cell_type": "markdown",
   "id": "415b96dd-a472-4135-aa86-5050596d640a",
   "metadata": {},
   "source": [
    "### 1.- Introduction"
   ]
  },
  {
   "cell_type": "markdown",
   "id": "f8fdc2ae-2e77-45cb-b99d-b515524cd32b",
   "metadata": {},
   "source": [
    "New York is one of the biggest and more international cities in the world. It's the well known city as the 'never sleep city' so open a restaurant in it it's never a bad idea. Studyin the expansion\n",
    "of the asian food abroad China open a new Chinese restaurant can be a good idea in this city that it's been a great entusiastic of trying new food and that usually starts new modes.\n",
    "So, with this in mind and knowing that New York has a long history with chinese food we are going to study which is the best borough to open a new chinese restaurant.\n",
    "This study is oriented to see and check the amount of chinese restaurants and how possible or economically available will be to open a new one in New York."
   ]
  },
  {
   "cell_type": "markdown",
   "id": "064526ee-dba3-49be-b945-0ac9d4ef55fa",
   "metadata": {},
   "source": [
    "### 2.- Problem Description"
   ]
  },
  {
   "cell_type": "markdown",
   "id": "699df2e8-ef94-47f5-8eef-a17d9313c2a9",
   "metadata": {},
   "source": [
    "1- Study of the neighborhoods of New York by population and number of restaurants\n",
    "\n",
    "2- Study of the boroughs by popuation and number of restaurants\n",
    "\n",
    "3- Study of the available data of each chinese restaurant"
   ]
  },
  {
   "cell_type": "markdown",
   "id": "60440b11-8ea7-4d17-b95b-bf3f6a708e35",
   "metadata": {},
   "source": [
    "### 3.- Location"
   ]
  },
  {
   "cell_type": "markdown",
   "id": "e8b306b2-2598-4f7f-97e4-4004693f6024",
   "metadata": {},
   "source": [
    "The New York city coordinates its been obtainded using geopy library that converts the address into coordinates.\n",
    "The puntuation and valoration of the existing restaurants in New York came from  FourSquare API, using 100 venues with a radius of 1000 m around the latitude and longitude provided."
   ]
  },
  {
   "cell_type": "markdown",
   "id": "4ed0e3db-e4a1-4430-9ae6-dc866f557281",
   "metadata": {},
   "source": [
    "### 4.- Foursquare API:"
   ]
  },
  {
   "cell_type": "markdown",
   "id": "00be0252-304c-4af5-aa96-e91e8173545d",
   "metadata": {},
   "source": [
    "This project would use Four-square API as its prime data gathering source as it has a database of millions of places, especially their places API which provides the ability to perform location search, location sharing and details about a business."
   ]
  },
  {
   "cell_type": "markdown",
   "id": "11ac2994-145f-4220-9c9a-7a2180c3a63b",
   "metadata": {},
   "source": [
    "### 5.- Work Flow:"
   ]
  },
  {
   "cell_type": "markdown",
   "id": "364b1811-1344-47e8-8ff4-1bd18739acee",
   "metadata": {},
   "source": [
    "Using credentials of Foursquare API features of near-by places of the neighborhoods would be mined. Due to http request limitations the number of places per neighborhood parameter would reasonably be set to 100 and the radius parameter would be set to 1000."
   ]
  },
  {
   "cell_type": "markdown",
   "id": "0ae41f0d-b97a-48b1-8e8b-91e25f9e71ea",
   "metadata": {},
   "source": [
    "### 6.- Libraires: "
   ]
  },
  {
   "cell_type": "markdown",
   "id": "e67a25fc-bcc1-4a7c-9790-26582a724927",
   "metadata": {},
   "source": [
    "- Pandas: For creating and manipulating dataframes.\n",
    "\n",
    "- Numpy: support for creating large multidimensional matrices and vectors, along with a large collection of high-level mathematical functions to operate on them.\n",
    "\n",
    "- Requests: make HTTP requests are simpler and human-friendly.\n",
    "    \n",
    "- bs4: library for pulling data out of HTML and XML files. \n",
    "    \n",
    "- geopy: locate the coordinates of addresses, cities, countries, and landmarks across the globe using third-party geocoders and other data sources.\n",
    "\n",
    "- os: portable way of using operating system dependent functionality\n",
    "    \n",
    "- folium:  used for visualizing geospatial data. \n",
    "\n",
    "- matplotlib: very powerful plotting library useful for those working with Python and NumPy."
   ]
  }
 ],
 "metadata": {
  "kernelspec": {
   "display_name": "Python",
   "language": "python",
   "name": "conda-env-python-py"
  },
  "language_info": {
   "codemirror_mode": {
    "name": "ipython",
    "version": 3
   },
   "file_extension": ".py",
   "mimetype": "text/x-python",
   "name": "python",
   "nbconvert_exporter": "python",
   "pygments_lexer": "ipython3",
   "version": "3.6.13"
  }
 },
 "nbformat": 4,
 "nbformat_minor": 5
}
