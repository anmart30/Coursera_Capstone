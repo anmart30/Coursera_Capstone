{
 "cells": [
  {
   "cell_type": "markdown",
   "id": "dfb8d383-0d61-42df-9bb7-6ee3fba0513d",
   "metadata": {},
   "source": [
    "## Coursera-Capstone Project"
   ]
  },
  {
   "cell_type": "markdown",
   "id": "dddbf2d7-fdb5-4d7a-b656-94e51594ad22",
   "metadata": {},
   "source": [
    "This is based on study the different neighboroughs of the west-Toronto studying the location Data of providers to take a decision based on the restaurants, shops, community centers... and so on"
   ]
  },
  {
   "cell_type": "code",
   "execution_count": 1,
   "id": "6679ad8b-936f-4614-bc0e-2de07cff9473",
   "metadata": {},
   "outputs": [],
   "source": [
    "import pandas as pd\n",
    "import numpy as np"
   ]
  },
  {
   "cell_type": "code",
   "execution_count": 2,
   "id": "9b475bea-ef86-410f-8e2e-2e062d39eb4d",
   "metadata": {},
   "outputs": [
    {
     "name": "stdout",
     "output_type": "stream",
     "text": [
      "Hello Cpastone Project Course!\n"
     ]
    }
   ],
   "source": [
    "print('Hello Cpastone Project Course!')"
   ]
  },
  {
   "cell_type": "code",
   "execution_count": null,
   "id": "104dda97-3302-4d65-b0e7-85c26b95a825",
   "metadata": {},
   "outputs": [],
   "source": []
  }
 ],
 "metadata": {
  "kernelspec": {
   "display_name": "Python 3",
   "language": "python",
   "name": "python3"
  },
  "language_info": {
   "codemirror_mode": {
    "name": "ipython",
    "version": 3
   },
   "file_extension": ".py",
   "mimetype": "text/x-python",
   "name": "python",
   "nbconvert_exporter": "python",
   "pygments_lexer": "ipython3",
   "version": "3.9.1"
  }
 },
 "nbformat": 4,
 "nbformat_minor": 5
}
