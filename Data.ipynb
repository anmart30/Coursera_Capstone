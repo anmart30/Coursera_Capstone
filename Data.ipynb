{
 "cells": [
  {
   "cell_type": "markdown",
   "id": "84e0b4ef-4e87-4987-8837-9d680ae20ce3",
   "metadata": {},
   "source": [
    "# The battle of Neighborhoods"
   ]
  },
  {
   "cell_type": "markdown",
   "id": "0dbc9103-b335-4553-a120-2560a8ea3abb",
   "metadata": {},
   "source": [
    "## Data"
   ]
  },
  {
   "cell_type": "markdown",
   "id": "03a6b048-e22a-451e-bea4-5dc0735e50b1",
   "metadata": {},
   "source": [
    "We are going to use the New York data available in web by using 'web scraping' method.\n",
    "\n",
    "1- The web data available of New York provide information about the borough and neighborhoods of the City.\n",
    "\n",
    "2- Geocoder python library provide the latitude and longitude of each place.\n",
    "\n",
    "3- Forsquare API retrieve the venues and venue-categories or near-venues for each neighborhood.\n",
    "\n",
    "4- Folium python library will allow us to create the map with the neighborhoods or the restaurant that we want to show"
   ]
  },
  {
   "cell_type": "markdown",
   "id": "e832d7a5-4f99-4e41-8609-ecc43a1cafb6",
   "metadata": {},
   "source": [
    "#### The web page where we extract the New York data is:\n",
    "\n",
    "    - url = 'https://cocl.us/new_york_dataset'"
   ]
  },
  {
   "cell_type": "markdown",
   "id": "6f57c4af-e421-4117-9ebc-91a1d3c79ff9",
   "metadata": {},
   "source": [
    "#### Interesting webpages of the main aplications used during the project (there are ones that have not being used in the final project but may are interesting for the user or future studies):\n",
    "    - Forsquare: 'https://foursquare.com'\n",
    "    \n",
    "    - New York Data: 'https://cf-courses-data.s3.us.cloud-object-storage.appdomain.cloud/IBMDeveloperSkillsNetwork-DS0701EN-SkillsNetwork/labs/newyork_data.json'\n",
    "\n",
    "\n",
    "    Python Libraries info:\n",
    "        - Geocoder: 'https://geocoder.readthedocs.io/index.html'\n",
    "        \n",
    "        - Geopy: 'https://pypi.org/project/geopy/'\n",
    "        \n",
    "        - Folium: 'https://pypi.org/project/folium/'\n",
    "       "
   ]
  },
  {
   "cell_type": "code",
   "execution_count": null,
   "id": "46e85807-28db-4be0-a861-29bf34fd83b0",
   "metadata": {},
   "outputs": [],
   "source": []
  }
 ],
 "metadata": {
  "kernelspec": {
   "display_name": "Python",
   "language": "python",
   "name": "conda-env-python-py"
  },
  "language_info": {
   "codemirror_mode": {
    "name": "ipython",
    "version": 3
   },
   "file_extension": ".py",
   "mimetype": "text/x-python",
   "name": "python",
   "nbconvert_exporter": "python",
   "pygments_lexer": "ipython3",
   "version": "3.6.13"
  }
 },
 "nbformat": 4,
 "nbformat_minor": 5
}
